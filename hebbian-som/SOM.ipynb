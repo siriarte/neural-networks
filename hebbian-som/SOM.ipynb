{
 "cells": [
  {
   "cell_type": "code",
   "execution_count": 132,
   "metadata": {
    "collapsed": false
   },
   "outputs": [],
   "source": [
    "%matplotlib inline\n",
    "import numpy as np\n",
    "from numpy import linalg as LA\n",
    "from __future__ import division\n",
    "import numpy as np\n",
    "import matplotlib.pyplot as plt\n",
    "from numpy import linalg as LA\n",
    "from funciones_complementarias import *\n"
   ]
  },
  {
   "cell_type": "code",
   "execution_count": 133,
   "metadata": {
    "collapsed": true
   },
   "outputs": [],
   "source": [
    "#Defino funciones auxiliares:\n",
    "\n",
    "def norm_col(x):\n",
    "    y = LA.norm(x,axis=0)\n",
    "    return y\n",
    "\n",
    "\n",
    "\n",
    "\n",
    "def flatten(x): #debe ser una matriz x\n",
    "    y = np.reshape(x,x.shape[0]*x.shape[1])\n",
    "    return y"
   ]
  },
  {
   "cell_type": "code",
   "execution_count": 134,
   "metadata": {
    "collapsed": false
   },
   "outputs": [],
   "source": [
    "class PerceptronSOM:\n",
    "    def __init__(self,long_input,filas_output,columnas_output):\n",
    "        self.long_input = long_input\n",
    "        self.filas_output =  filas_output\n",
    "        self.columnas_output = columnas_output\n",
    "        #self.w_= []\n",
    "        #peso = np.random.rand(l_neuronasPorCapa[i],l_neuronasPorCapa[i-1])       \n",
    "        peso = np.random.uniform(low=-0.6, high=0.6, size=(self.long_input,self.filas_output*self.columnas_output))\n",
    "        peso = np.matrix(peso)\n",
    "        self.w_ = peso\n",
    "        \n",
    "# Funciones propias de SOM\n",
    "    def mascara_min_dist(self,x_): # sea x un vector de 1xN. W es la matriz de pesos con dimension Nx(M1*M2)\n",
    "        x = np.matrix(x_)\n",
    "        y_ = norm_col(x.T-pm.w_) # calculo la distancia de x a cada columna de la matriz de pesos, obtengo un vector con esas distancias, o sea el vector tendra \n",
    "        # dimension 1xcolumnas.\n",
    "        return (y_==np.min(y_))*1\n",
    "    \n",
    "    def coord(self, x):\n",
    "        pos = np.where(x==1)[0][0]\n",
    "        coord_col =pos%pm.columnas_output\n",
    "        coord_fila = int(np.ceil(pos/pm.columnas_output))\n",
    "        l=[]\n",
    "        l.append(coord_fila)\n",
    "        l.append(coord_col)\n",
    "        return l\n",
    "\n",
    "    \n",
    "    def vecino(self, position , sigma):\n",
    "        filas = self.filas_output\n",
    "        columnas = self.columnas_output\n",
    "        d_ = np.zeros(filas*columnas)\n",
    "        d = np.matrix(d_)\n",
    "        d = d.reshape(1,filas*columnas)\n",
    "        p = position\n",
    "        for i in range(0,filas):\n",
    "            for j in range(0,columnas):\n",
    "                ij2p = (i-p[0])**2 + (j-p[1])**2\n",
    "                dist_ij2p = np.sqrt(ij2p)\n",
    "                dist_ij2p = dist_ij2p * 0.5 *(1/sigma)\n",
    "                d[0,i*j] = np.e**(-dist_ij2p)\n",
    "        return d\n",
    "\n",
    "    def correccion(self,x,eta_act,sigma_act):\n",
    "        y = self.mascara_min_dist(x)\n",
    "        p = self.coord(y)\n",
    "        d = self.vecino(p,sigma_act)\n",
    "        x_ = np.matrix(x)\n",
    "        y_ = x_ * self.w_\n",
    "        delta = np.multiply(y_,flatten(d))\n",
    "        self.w_ += eta_act*delta\n",
    "        return self\n",
    "            \n",
    "    def train_som(self, trainX, eta=0.01, sigma = 0.1,t_eta = 1, t_sigma = 1, epochs=100):\n",
    "        self.eta = eta\n",
    "        self.epochs = epochs\n",
    "        for _ in range(self.epochs):\n",
    "            eta_act = eta*np.e**(-_/t_eta)\n",
    "            sigma_act = sigma*np.e**(-_/t_eta)\n",
    "            cant_entr = len(trainX)\n",
    "            for i in (0,449):\n",
    "                x = trainX[i]\n",
    "                self.correccion(x,sigma_act,eta_act)\n",
    "        return self\n",
    "    \n",
    "\n",
    "\n"
   ]
  },
  {
   "cell_type": "code",
   "execution_count": 149,
   "metadata": {
    "collapsed": false
   },
   "outputs": [
    {
     "name": "stdout",
     "output_type": "stream",
     "text": [
      "Importo los datos\n",
      "Centro los datos y separo la columna de clases\n",
      "Separo los datos de entrenamiento y de validacion:\n",
      "Cantidad datos de entrenamiento\n",
      "720\n",
      "Paso los datos a lista\n"
     ]
    }
   ],
   "source": [
    "\n",
    "print \"Importo los datos\"\n",
    "import pandas as pd\n",
    "df1 = pd.read_csv('tp2_training_dataset.csv', header=None)\n",
    "\n",
    "print \"Centro los datos y separo la columna de clases\"\n",
    "df2 = df1.copy()\n",
    "df2_sin_clase = df2.drop(0,1)\n",
    "clases = df2[0]\n",
    "#df_centrado = centrar(df2)\n",
    "df_centrado = centrar(df2_sin_clase)\n",
    "\n",
    "print \"Separo los datos de entrenamiento y de validacion:\"\n",
    "#Separo datos de entrenamiento, de validacion y de testing. Validacion me servira para evaluar mis pruebas y con el grupo de datos testing reportare la rta final del tp en cada caso.\n",
    "proporcion_entrenamiento = 0.8\n",
    "cant_train = int(len(df1)*proporcion_entrenamiento)\n",
    "print \"Cantidad datos de entrenamiento\"\n",
    "print cant_train\n",
    "datos_entr = df_centrado[0:cant_train]\n",
    "clases_entr = clases[0:cant_train]\n",
    "datos_val = df_centrado[cant_train:]\n",
    "clases_val = clases[cant_train:]\n",
    "\n",
    "#print \"Cantidad datos de validacion\"\n",
    "#print cant_train\n",
    "\n",
    "print \"Paso los datos a lista\"\n",
    "trainX  = datos_entr\n",
    "trainX_lista =  trainX.values.tolist()\n",
    "long_input = datos_entr.shape[1]\n"
   ]
  },
  {
   "cell_type": "code",
   "execution_count": 150,
   "metadata": {
    "collapsed": false
   },
   "outputs": [],
   "source": [
    "pm = PerceptronSOM(850,10,10)"
   ]
  },
  {
   "cell_type": "code",
   "execution_count": 151,
   "metadata": {
    "collapsed": false
   },
   "outputs": [
    {
     "data": {
      "text/plain": [
       "<__main__.PerceptronSOM instance at 0x000000000F061D08>"
      ]
     },
     "execution_count": 151,
     "metadata": {},
     "output_type": "execute_result"
    }
   ],
   "source": [
    "pm.train_som(trainX_lista)"
   ]
  },
  {
   "cell_type": "code",
   "execution_count": 152,
   "metadata": {
    "collapsed": false
   },
   "outputs": [
    {
     "data": {
      "text/plain": [
       "<matplotlib.image.AxesImage at 0x8ca0c50>"
      ]
     },
     "execution_count": 152,
     "metadata": {},
     "output_type": "execute_result"
    },
    {
     "data": {
      "image/png": "[encoded data removed]",
      "text/plain": [
       "<matplotlib.figure.Figure at 0xdeb71d0>"
      ]
     },
     "metadata": {},
     "output_type": "display_data"
    }
   ],
   "source": [
    "a  = pm.w_.sum(axis=0)\n",
    "a = a.reshape(10,10)\n",
    "#print a\n",
    "plt.matshow(a)"
   ]
  }
 ],
 "metadata": {
  "anaconda-cloud": {},
  "kernelspec": {
   "display_name": "Python [Root]",
   "language": "python",
   "name": "Python [Root]"
  },
  "language_info": {
   "codemirror_mode": {
    "name": "ipython",
    "version": 2
   },
   "file_extension": ".py",
   "mimetype": "text/x-python",
   "name": "python",
   "nbconvert_exporter": "python",
   "pygments_lexer": "ipython2",
   "version": "2.7.12"
  }
 },
 "nbformat": 4,
 "nbformat_minor": 0
}
